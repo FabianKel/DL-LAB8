{
 "cells": [
  {
   "cell_type": "markdown",
   "id": "634dcb72",
   "metadata": {},
   "source": [
    "### **Laboratorio 8**\n",
    "\n",
    "- Derek Arreaga - 22537\n",
    "- Paula Barillas - 22764\n",
    "- Mónica Salvatierra - 22249\n",
    "\n",
    "Link del repo: https://github.com/FabianKel/DL-LAB8"
   ]
  },
  {
   "cell_type": "markdown",
   "id": "177cd1d6",
   "metadata": {},
   "source": [
    "## **Práctica**"
   ]
  },
  {
   "cell_type": "markdown",
   "id": "be5fc0e8",
   "metadata": {},
   "source": [
    "## **Teoría**"
   ]
  },
  {
   "cell_type": "markdown",
   "id": "3095c022",
   "metadata": {},
   "source": [
    "Responda claramente y con una extensión adecuada las siguientes preguntas:"
   ]
  },
  {
   "cell_type": "markdown",
   "id": "1c91beea",
   "metadata": {},
   "source": [
    "#### **1. ¿Cuál es el problema del gradiente de fuga en las redes LSTM y cómo afecta la efectividad de LSTM para el pronóstico de series temporales?**\n",
    "\n",
    "- El problema del gradiente de fuga ocurre cuando los gradientes se hacen muy pequeños durante el proceso de backpropagation, lo que dificulta que la red aprenda dependencias a largo plazo. Aunque las LSTM fueron diseñadas justamente para mitigar este problema gracias a sus compuertas, todavía puede presentarse si la secuencia es demasiado larga o si el modelo no está bien ajustado. En el contexto de series temporales, esto puede provocar que la red se enfoque solo en patrones recientes y no logre captar tendencias más prolongadas, reduciendo la calidad del pronóstico.\n",
    "\n",
    "<br>\n",
    "\n",
    "#### **2. ¿Cómo se aborda la estacionalidad en los datos de series temporales cuando se utilizan LSTM para realizar pronósticos y qué papel juega la diferenciación en el proceso?**\n",
    "\n",
    "- La estacionalidad se aborda normalmente preparando los datos antes de entrenar el modelo. Una forma común es aplicar transformaciones como la diferenciación (restar un valor con respecto a su equivalente en un periodo anterior). Esto ayuda a que la red trabaje con datos más “estacionarios”, eliminando las repeticiones cíclicas y dejando en evidencia las variaciones reales que debe aprender. Así, el LSTM no tiene que ir redescubriendo patrones estacionales, sino que puede concentrarse en aprender la dinámica de la serie.\n",
    "\n",
    "<br>\n",
    "\n",
    "#### **3. ¿Cuál es el concepto de \"tamaño de ventana\" en el pronóstico de series temporales con LSTM y cómo afecta la elección del tamaño de ventana a la capacidad del modelo para capturar patrones a corto y largo plazo?**\n",
    "\n",
    "- El tamaño de ventana se refiere al número de observaciones pasadas que se toman como entrada para predecir el siguiente valor. Elegir este tamaño es clave, dado que si la ventana es muy corta, el modelo solo aprenderá patrones locales y puede perder información importante de más atrás. Si la ventana es demasiado larga, el modelo tendrá más información para detectar tendencias a largo plazo, pero también será más difícil de entrenar y puede introducir ruido. En la práctica, se busca un equilibrio para que el modelo capture tanto los patrones inmediatos como los de mayor duración.\n"
   ]
  },
  {
   "cell_type": "markdown",
   "id": "4e4018aa",
   "metadata": {},
   "source": [
    "### **Referencias**\n",
    "\n",
    "1. Despot, I., & Arif, A. (2025, 16 enero). Time-Series Forecasting: Definition, Methods, and Applications. TigerData Blog. https://www.tigerdata.com/blog/what-is-time-series-forecasting\n",
    "\n",
    "2. Q3 Technologies. (2024, 6 agosto). How LSTM Networks are Revolutionizing Time Series Forecasting. https://www.q3tech.com/blogs/lstm-time-series-forecasting/\n",
    "\n"
   ]
  }
 ],
 "metadata": {
  "language_info": {
   "name": "python"
  }
 },
 "nbformat": 4,
 "nbformat_minor": 5
}
